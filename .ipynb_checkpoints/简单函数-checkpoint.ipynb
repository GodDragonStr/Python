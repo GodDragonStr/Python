{
 "cells": [
  {
   "cell_type": "markdown",
   "id": "c56ab080-6c76-4a2b-978c-95647334613e",
   "metadata": {},
   "source": [
    "函数\n",
    "==="
   ]
  },
  {
   "cell_type": "markdown",
   "id": "1d2260b3-c7fe-4fd1-9320-b891fce11067",
   "metadata": {},
   "source": [
    "# 交互设计\n",
    "本章介绍了小乌龟这个模块，这允许你用小龟的图形功能来制作一些图形。乌龟模块在大部分的Python中都有安装，不过如果你在线使用PythnAnywhere，你就无法运行这些乌龟样例了。\n"
   ]
  },
  {
   "cell_type": "markdown",
   "id": "381a948e-17a0-45b8-bd7f-f76b22173d4e",
   "metadata": {},
   "source": [
    "## 4.1 乌龟模块\n",
    "检查是否安装乌龟模块："
   ]
  },
  {
   "cell_type": "code",
   "execution_count": 1,
   "id": "c519760c-ac82-488a-8713-429c83e3e9f3",
   "metadata": {},
   "outputs": [],
   "source": [
    "import turtle\n",
    "bob = turtle.Turtle()"
   ]
  },
  {
   "cell_type": "markdown",
   "id": "21b70fcd-d57b-4094-a554-f4941eb062a0",
   "metadata": {},
   "source": [
    "运行上述例子的时候，应该就能新建一个小窗口，还有个小箭头象征小乌龟。"
   ]
  },
  {
   "cell_type": "code",
   "execution_count": 8,
   "id": "3ae65d73-f6c2-41c3-b1b0-adb293161c1c",
   "metadata": {},
   "outputs": [
    {
     "name": "stdout",
     "output_type": "stream",
     "text": [
      "\f",
      "\n"
     ]
    }
   ],
   "source": [
    "clear"
   ]
  },
  {
   "cell_type": "code",
   "execution_count": 10,
   "id": "33c09a02-6fce-477e-9bed-0d5b94612731",
   "metadata": {},
   "outputs": [
    {
     "name": "stdout",
     "output_type": "stream",
     "text": [
      "<turtle.Turtle object at 0x000001F7C52F5E50>\n"
     ]
    }
   ],
   "source": [
    "import turtle\n",
    "bob = turtle.Turtle()\n",
    "print(bob)"
   ]
  },
  {
   "cell_type": "markdown",
   "id": "f27771e1-ad6e-4658-964b-62d0d8d60c6b",
   "metadata": {},
   "source": [
    "- turtle 提供了 Turtle 模块函数，这个函数会创建一个 Turtle 对象，我们把它赋值给 bob 变量\n",
    "- <turtle.Turtle object at 0x000002BD893BEF10> 意味着bob已经指向了模块turtle中所定义的Turtle类的一个对象\n",
    "- mainloop这个函数是告诉窗口等用户来做些事情，一旦你创建了一个Trutle，你就可以调用一些方法让他在窗口中移动\n"
   ]
  },
  {
   "cell_type": "markdown",
   "id": "bcb71e1e-2164-47f8-8b48-90fb38342c40",
   "metadata": {},
   "source": [
    "## 4.2 简单的重复"
   ]
  },
  {
   "cell_type": "code",
   "execution_count": 11,
   "id": "a90c3c8f-8051-4dd9-844e-4182e566f564",
   "metadata": {},
   "outputs": [],
   "source": [
    "bob.fd(100) # 前进100"
   ]
  },
  {
   "cell_type": "code",
   "execution_count": 12,
   "id": "de2c95a6-a0a7-434e-b4f2-df0ad957bce4",
   "metadata": {},
   "outputs": [],
   "source": [
    "bob.lt(100) # 转向100度"
   ]
  },
  {
   "cell_type": "code",
   "execution_count": 13,
   "id": "517a4782-f7d9-42db-b431-187511be42fc",
   "metadata": {},
   "outputs": [],
   "source": [
    "bob.fd(100) # 前进100"
   ]
  },
  {
   "cell_type": "code",
   "execution_count": 14,
   "id": "ef7558fe-f889-40a5-a34d-14cdeecef4d8",
   "metadata": {},
   "outputs": [],
   "source": [
    "bob.lt(-10) # 转向-10度"
   ]
  },
  {
   "cell_type": "code",
   "execution_count": 15,
   "id": "cbaed77b-6211-4ba2-976e-b246aacbbbe3",
   "metadata": {},
   "outputs": [],
   "source": [
    "bob.fd(100) # 前进100"
   ]
  },
  {
   "cell_type": "code",
   "execution_count": null,
   "id": "c2c69734-3365-4099-9fb0-b226978e5784",
   "metadata": {},
   "outputs": [],
   "source": [
    "bob.turtle.exitonclick() # 点击页面后自动关闭"
   ]
  },
  {
   "cell_type": "code",
   "execution_count": 17,
   "id": "4f56c770-5bd5-4a25-9cc0-54c0026ab50c",
   "metadata": {},
   "outputs": [],
   "source": [
    "turtle.mainloop() # turtle执行后的最后一句，此语句后的代码会无法运行"
   ]
  },
  {
   "cell_type": "code",
   "execution_count": null,
   "id": "e976ef31-607b-493b-afb8-64d95ff05a0c",
   "metadata": {},
   "outputs": [],
   "source": [
    "turtle.done() # turtle执行后的最后一句，此语句后的代码会无法运行"
   ]
  },
  {
   "cell_type": "code",
   "execution_count": null,
   "id": "efd93618-feb1-476b-8fb1-e059a3838e1e",
   "metadata": {},
   "outputs": [],
   "source": [
    "turtle.bye() # 运行完turtle后自动关闭页面"
   ]
  },
  {
   "cell_type": "markdown",
   "id": "d29d3677-a3ab-476f-9047-40f0de30cecb",
   "metadata": {},
   "source": [
    "## 4.3 练习"
   ]
  },
  {
   "cell_type": "markdown",
   "id": "a83f6811-1d26-4d99-a268-6284a9394b1a",
   "metadata": {},
   "source": [
    "**exercise** ：写一个函数叫做square（译者注：就是正方形的意思），有一个名叫t的参数，这个t是一个 turtle。用这个turtle来画一个正方形。写一个函数调用，把bob作为参数传递给square，然后 再运行这个程序"
   ]
  },
  {
   "cell_type": "code",
   "execution_count": 35,
   "id": "e5cad9fe-abe2-4c9a-a6d6-df8c2f841205",
   "metadata": {},
   "outputs": [
    {
     "name": "stdout",
     "output_type": "stream",
     "text": [
      "\f",
      "\n"
     ]
    }
   ],
   "source": [
    "clear"
   ]
  },
  {
   "cell_type": "code",
   "execution_count": 3,
   "id": "7789bbb4-6a2a-4d17-ae4a-7483cc37d750",
   "metadata": {},
   "outputs": [],
   "source": [
    "import turtle\n",
    "\n",
    "def square(t, line_width):\n",
    "    for i in range(4):\n",
    "        t.fd(line_width)\n",
    "        t.lt(90)\n",
    "        \n",
    "t = turtle.Turtle()\n",
    "square(t,99)\n",
    "square(t,200)"
   ]
  },
  {
   "cell_type": "markdown",
   "id": "27c29bfb-b789-4523-9484-002c66727cc9",
   "metadata": {},
   "source": [
    "**exercise**：复制一下square这个函数，把名字改成polygon（译者注：意思为多边形）。另外添加一个 参数叫做n，然后修改函数体，让函数实现画一个正n边的多边形。提示：正n多边形的外角为 360/n度\n",
    "\n",
    "- 如果你用Python2的话，角度可能因为整除而导致的偏差。简单的解决方法就是用360.0来除 以n而不是用360，这就是用浮点数替代了原来的整形，结果就是一个浮点数了。"
   ]
  },
  {
   "cell_type": "code",
   "execution_count": 7,
   "id": "0a40afa8-b03e-445e-a89a-d0d1a7a4b67b",
   "metadata": {},
   "outputs": [],
   "source": [
    "def polygon(p, line_width, n):\n",
    "    for i in range(n):\n",
    "        p.fd(line_width)\n",
    "        p.lt(360.0/n)\n",
    "\n",
    "p = turtle.Turtle()\n",
    "polygon(p, 100, 6)\n",
    "turtle.bye()"
   ]
  },
  {
   "cell_type": "markdown",
   "id": "a3f157e0-302c-4f86-b830-b6ce6b10ceae",
   "metadata": {},
   "source": [
    "**exercise**： 利用polygon函数画一个圆形"
   ]
  },
  {
   "cell_type": "code",
   "execution_count": 31,
   "id": "0256cd58-7e51-4ee9-aaa0-482584e99bde",
   "metadata": {},
   "outputs": [],
   "source": [
    "import numpy as np\n",
    "\n",
    "def circle(c, radius):\n",
    "    primeter = 2*(radius * np.pi)\n",
    "    line_width = primeter/360\n",
    "    polygon(c, line_width, 360)\n",
    "    \n",
    "def circle_pro(c, radius):\n",
    "    primeter = 2*(radius * np.pi)\n",
    "    n = int(primeter/3) + 1 # 自适应圆的大小改变角度，否则当园太大时会产生较大误差\n",
    "    line_width = primeter/n\n",
    "    polygon(c, line_width, n)\n",
    "\n",
    "c = turtle.Turtle()\n",
    "circle(c,50)\n",
    "c.lt(90)\n",
    "c.fd(100)\n",
    "turtle.bye()"
   ]
  },
  {
   "cell_type": "markdown",
   "id": "ca457661-440e-4c06-a77b-63560a9ed6ab",
   "metadata": {},
   "source": [
    "**exiercise**：在circle基础上做一个叫做arc的函数，用这个角度值来确定画多大的一个圆弧。用度做单位，当angle等于360度的时候，arc函 数就应当画出一个整团了。"
   ]
  },
  {
   "cell_type": "code",
   "execution_count": 38,
   "id": "7827b7bb-bd85-43fa-a18f-7c0661176029",
   "metadata": {},
   "outputs": [],
   "source": [
    "def arc(circle, radius, angle):\n",
    "    primeter = 2*(radius * np.pi)\n",
    "    line_width = primeter/360\n",
    "    for i in range(angle):\n",
    "        circle.fd(line_width)\n",
    "        circle.lt(1)\n",
    "\n",
    "circle = turtle.Turtle()\n",
    "arc(circle, 100, 90)\n",
    "turtle.exitonclick()"
   ]
  },
  {
   "cell_type": "markdown",
   "id": "9b5c027e-cfaf-49a5-9de0-44669018532b",
   "metadata": {},
   "source": [
    "## 4.4 封装\n",
    "把正方形绘制的代码定义到一个函数里面，然后调用这个函数，传入一个 turtle对象作为参数"
   ]
  },
  {
   "cell_type": "code",
   "execution_count": 43,
   "id": "6a4b7ad8-67dd-442b-ae81-d31a75c6c9cf",
   "metadata": {},
   "outputs": [],
   "source": [
    "import turtle\n",
    "\n",
    "def square(t): \n",
    "    for i in range(4): \n",
    "        t.fd(100) \n",
    "        t.lt(90) \n",
    "\n",
    "bob = turtle.Turtle()\n",
    "square(bob)\n",
    "turtle.exitonclick()"
   ]
  },
  {
   "cell_type": "markdown",
   "id": "cd8f62af-c3b5-40f9-92bd-a406019ef664",
   "metadata": {},
   "source": [
    "## 4.5 泛化"
   ]
  },
  {
   "cell_type": "markdown",
   "id": "0c70b9a5-28ed-4690-97b1-267209219a25",
   "metadata": {},
   "source": [
    "```python\n",
    "polygon(bob, n=7, length=70)\n",
    "```"
   ]
  },
  {
   "cell_type": "markdown",
   "id": "5f254661-632d-4094-abef-fe72b6e7f7a6",
   "metadata": {},
   "source": [
    "## 4.6 接口操作\n",
    "函数的接口就是关于它如何工作的一个概述：都有什么变量？函数实现什么功能？以及返回 值是什么？允许调用者随意操作而不用处理一些无关紧要的细节，这种函数接口就是简洁 的。"
   ]
  },
  {
   "cell_type": "markdown",
   "id": "4ade02e0-690b-477d-a73c-f914064295c9",
   "metadata": {},
   "source": [
    "## 4.7  重构\n",
    "写circle这个函数的时候，我能利用多边形函数polygon是因为一个足够多边的多边形和圆很接近。但圆弧就不太适合这个思路了；我们不能用多边形或者圆来画一个圆弧。 一个替代的方法就是把polygon修改一下，另一种方法是改变一下接口，比如再创造一个函数polyline重写多边形和圆弧，再用多边形和圆弧来重写圆。"
   ]
  },
  {
   "cell_type": "code",
   "execution_count": 44,
   "id": "1d42d46f-fc88-4260-a08e-b3615162fba3",
   "metadata": {},
   "outputs": [],
   "source": [
    "def polyline(t, n, length, angle): \n",
    "    for i in range(n): \n",
    "        t.fd(length) \n",
    "        t.lt(angle)\n",
    "\n",
    "def polygon(t, n, length): \n",
    "    angle = 360.0 / n \n",
    "    polyline(t, n, length, angle) \n",
    "\n",
    "def arc(t, r, angle): \n",
    "    arc_length = 2 * math.pi * r * angle / 360 \n",
    "    n = int(arc_length / 3) + 1 \n",
    "    step_length = arc_length / n \n",
    "    step_angle = float(angle) / n \n",
    "    polyline(t, n, step_length, step_angle)"
   ]
  },
  {
   "cell_type": "code",
   "execution_count": null,
   "id": "848f2175-f475-4a0e-8bf1-ec8ca70151a7",
   "metadata": {},
   "outputs": [],
   "source": []
  }
 ],
 "metadata": {
  "kernelspec": {
   "display_name": "Python 3 (ipykernel)",
   "language": "python",
   "name": "python3"
  },
  "language_info": {
   "codemirror_mode": {
    "name": "ipython",
    "version": 3
   },
   "file_extension": ".py",
   "mimetype": "text/x-python",
   "name": "python",
   "nbconvert_exporter": "python",
   "pygments_lexer": "ipython3",
   "version": "3.9.12"
  }
 },
 "nbformat": 4,
 "nbformat_minor": 5
}
