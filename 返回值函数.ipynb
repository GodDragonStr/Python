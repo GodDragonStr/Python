{
 "cells": [
  {
   "cell_type": "markdown",
   "id": "c56ab080-6c76-4a2b-978c-95647334613e",
   "metadata": {},
   "source": [
    "第六章 有返回值的函数\n",
    "==="
   ]
  },
  {
   "cell_type": "markdown",
   "id": "1d2260b3-c7fe-4fd1-9320-b891fce11067",
   "metadata": {},
   "source": [
    "# 交互设计\n",
    "本章介绍了小乌龟这个模块，这允许你用小龟的图形功能来制作一些图形。乌龟模块在大部分的Python中都有安装，不过如果你在线使用PythnAnywhere，你就无法运行这些乌龟样例了。\n"
   ]
  },
  {
   "cell_type": "markdown",
   "id": "381a948e-17a0-45b8-bd7f-f76b22173d4e",
   "metadata": {},
   "source": [
    "## 4.1 乌龟模块\n",
    "检查是否安装乌龟模块："
   ]
  },
  {
   "cell_type": "code",
   "execution_count": 1,
   "id": "c519760c-ac82-488a-8713-429c83e3e9f3",
   "metadata": {},
   "outputs": [],
   "source": [
    "import turtle\n",
    "bob = turtle.Turtle()"
   ]
  },
  {
   "cell_type": "markdown",
   "id": "21b70fcd-d57b-4094-a554-f4941eb062a0",
   "metadata": {},
   "source": [
    "运行上述例子的时候，应该就能新建一个小窗口，还有个小箭头象征小乌龟。"
   ]
  },
  {
   "cell_type": "code",
   "execution_count": 8,
   "id": "3ae65d73-f6c2-41c3-b1b0-adb293161c1c",
   "metadata": {},
   "outputs": [
    {
     "name": "stdout",
     "output_type": "stream",
     "text": [
      "\f",
      "\n"
     ]
    }
   ],
   "source": [
    "clear"
   ]
  },
  {
   "cell_type": "code",
   "execution_count": 10,
   "id": "33c09a02-6fce-477e-9bed-0d5b94612731",
   "metadata": {},
   "outputs": [
    {
     "name": "stdout",
     "output_type": "stream",
     "text": [
      "<turtle.Turtle object at 0x000001F7C52F5E50>\n"
     ]
    }
   ],
   "source": [
    "import turtle\n",
    "bob = turtle.Turtle()\n",
    "print(bob)"
   ]
  },
  {
   "cell_type": "markdown",
   "id": "f27771e1-ad6e-4658-964b-62d0d8d60c6b",
   "metadata": {},
   "source": [
    "- turtle 提供了 Turtle 模块函数，这个函数会创建一个 Turtle 对象，我们把它赋值给 bob 变量\n",
    "- <turtle.Turtle object at 0x000002BD893BEF10> 意味着bob已经指向了模块turtle中所定义的Turtle类的一个对象\n",
    "- mainloop这个函数是告诉窗口等用户来做些事情，一旦你创建了一个Trutle，你就可以调用一些方法让他在窗口中移动\n"
   ]
  },
  {
   "cell_type": "code",
   "execution_count": 11,
   "id": "a90c3c8f-8051-4dd9-844e-4182e566f564",
   "metadata": {},
   "outputs": [],
   "source": [
    "bob.fd(100) # 前进100"
   ]
  },
  {
   "cell_type": "code",
   "execution_count": 12,
   "id": "de2c95a6-a0a7-434e-b4f2-df0ad957bce4",
   "metadata": {},
   "outputs": [],
   "source": [
    "bob.lt(100) # 转向100度"
   ]
  },
  {
   "cell_type": "code",
   "execution_count": 13,
   "id": "517a4782-f7d9-42db-b431-187511be42fc",
   "metadata": {},
   "outputs": [],
   "source": [
    "bob.fd(100) # 前进100"
   ]
  },
  {
   "cell_type": "code",
   "execution_count": 14,
   "id": "ef7558fe-f889-40a5-a34d-14cdeecef4d8",
   "metadata": {},
   "outputs": [],
   "source": [
    "bob.lt(-10) # 转向-10度"
   ]
  },
  {
   "cell_type": "code",
   "execution_count": 15,
   "id": "cbaed77b-6211-4ba2-976e-b246aacbbbe3",
   "metadata": {},
   "outputs": [],
   "source": [
    "bob.fd(100) # 前进100"
   ]
  },
  {
   "cell_type": "code",
   "execution_count": null,
   "id": "c2c69734-3365-4099-9fb0-b226978e5784",
   "metadata": {},
   "outputs": [],
   "source": [
    "bob.turtle.exitonclick() # 点击页面后自动关闭"
   ]
  },
  {
   "cell_type": "code",
   "execution_count": 17,
   "id": "4f56c770-5bd5-4a25-9cc0-54c0026ab50c",
   "metadata": {},
   "outputs": [],
   "source": [
    "turtle.mainloop() # turtle执行后的最后一句，此语句后的代码会无法运行"
   ]
  },
  {
   "cell_type": "code",
   "execution_count": null,
   "id": "e976ef31-607b-493b-afb8-64d95ff05a0c",
   "metadata": {},
   "outputs": [],
   "source": [
    "turtle.done() # turtle执行后的最后一句，此语句后的代码会无法运行"
   ]
  },
  {
   "cell_type": "code",
   "execution_count": null,
   "id": "efd93618-feb1-476b-8fb1-e059a3838e1e",
   "metadata": {},
   "outputs": [],
   "source": [
    "turtle.bye() # 运行完turtle后自动关闭页面"
   ]
  },
  {
   "cell_type": "markdown",
   "id": "a83f6811-1d26-4d99-a268-6284a9394b1a",
   "metadata": {},
   "source": [
    "- exercise：写一个函数叫做square（译者注：就是正方形的意思），有一个名叫t的参数，这个t是一个 turtle。用这个turtle来画一个正方形。写一个函数调用，把bob作为参数传递给square，然后 再运行这个程序"
   ]
  },
  {
   "cell_type": "code",
   "execution_count": 35,
   "id": "e5cad9fe-abe2-4c9a-a6d6-df8c2f841205",
   "metadata": {},
   "outputs": [
    {
     "name": "stdout",
     "output_type": "stream",
     "text": [
      "\f",
      "\n"
     ]
    }
   ],
   "source": [
    "clear"
   ]
  },
  {
   "cell_type": "code",
   "execution_count": 3,
   "id": "7789bbb4-6a2a-4d17-ae4a-7483cc37d750",
   "metadata": {},
   "outputs": [],
   "source": [
    "import turtle\n",
    "\n",
    "def square(t, line_width):\n",
    "    for i in range(4):\n",
    "        t.fd(line_width)\n",
    "        t.lt(90)\n",
    "        \n",
    "t = turtle.Turtle()\n",
    "square(t,99)\n",
    "square(t,200)"
   ]
  },
  {
   "cell_type": "markdown",
   "id": "27c29bfb-b789-4523-9484-002c66727cc9",
   "metadata": {},
   "source": [
    "- exercise：复制一下square这个函数，把名字改成polygon（译者注：意思为多边形）。另外添加一个 参数叫做n，然后修改函数体，让函数实现画一个正n边的多边形。提示：正n多边形的外角为 360/n度"
   ]
  },
  {
   "cell_type": "code",
   "execution_count": 7,
   "id": "0a40afa8-b03e-445e-a89a-d0d1a7a4b67b",
   "metadata": {},
   "outputs": [],
   "source": [
    "def polygon(p, line_width, n):\n",
    "    for i in range(n):\n",
    "        p.fd(line_width)\n",
    "        p.lt(360/n)\n",
    "\n",
    "p = turtle.Turtle()\n",
    "polygon(p, 100, 6)\n",
    "turtle.bye()"
   ]
  },
  {
   "cell_type": "code",
   "execution_count": null,
   "id": "74c4c6c5-e906-4813-a35f-85247a26bfb6",
   "metadata": {},
   "outputs": [],
   "source": []
  }
 ],
 "metadata": {
  "kernelspec": {
   "display_name": "Python 3 (ipykernel)",
   "language": "python",
   "name": "python3"
  },
  "language_info": {
   "codemirror_mode": {
    "name": "ipython",
    "version": 3
   },
   "file_extension": ".py",
   "mimetype": "text/x-python",
   "name": "python",
   "nbconvert_exporter": "python",
   "pygments_lexer": "ipython3",
   "version": "3.9.12"
  }
 },
 "nbformat": 4,
 "nbformat_minor": 5
}
